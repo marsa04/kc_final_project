{
 "cells": [
  {
   "cell_type": "code",
   "execution_count": 3,
   "metadata": {},
   "outputs": [],
   "source": [
    "import pandas as pd\n",
    "import numpy as np\n",
    "%matplotlib inline\n",
    "import matplotlib.pyplot as plt\n",
    "\n",
    "import itertools                                  # для первого задания\n",
    "from fbprophet import Prophet                     # для второго задания\n",
    "\n",
    "import seaborn as sns"
   ]
  },
  {
   "cell_type": "markdown",
   "metadata": {},
   "source": [
    "## Задание 1\n",
    "\n",
    "В файле содержится информация о покупках людей\n",
    "\n",
    "- id – означает покупку (в одну покупку входят все товары, купленные пользователем во время 1 похода в магазин)\n",
    "- Товар – наименование товара\n",
    "- Количество – число единиц купленного товара\n",
    "\n",
    "Воспользуйтесь этими данными и выясните, какие пары товаров пользователи чаще всего покупают вместе. \n",
    "\n",
    "- 1_Товар – наименование первого товара\n",
    "- 2_Товар – наименование второго товара\n",
    "- Встречаемость – число раз, когда такая пара была встречена"
   ]
  },
  {
   "cell_type": "code",
   "execution_count": 2,
   "metadata": {},
   "outputs": [],
   "source": [
    "task_1 = pd.read_csv('https://stepik.org/media/attachments/lesson/409319/test1_completed.csv')"
   ]
  },
  {
   "cell_type": "code",
   "execution_count": 18,
   "metadata": {},
   "outputs": [],
   "source": [
    "# переименовываю колонки для удобства\n",
    "task_1 = task_1.rename(columns={'Товар' : 'item'}) \\\n",
    "               .sort_values(['id', 'item'])\n",
    "\n"
   ]
  },
  {
   "cell_type": "code",
   "execution_count": 7,
   "metadata": {},
   "outputs": [
    {
     "name": "stdout",
     "output_type": "stream",
     "text": [
      "                        0                 1       2\n",
      "0                   Лимон   Лимон оранжевый   17119\n",
      "1                   Лимон      Лук репчатый   17119\n",
      "2                   Лимон         Лук-порей   17119\n",
      "3                   Лимон     Малина свежая   17119\n",
      "4                   Лимон   Морковь немытая   17119\n",
      "...                   ...               ...     ...\n",
      "390538  Фасоль стручковая   Черешня сушеная  119396\n",
      "390539  Фасоль стручковая  Яблоки Джонаголд  119396\n",
      "390540            Физалис   Черешня сушеная  119396\n",
      "390541            Физалис  Яблоки Джонаголд  119396\n",
      "390542    Черешня сушеная  Яблоки Джонаголд  119396\n",
      "\n",
      "[390543 rows x 3 columns]\n"
     ]
    }
   ],
   "source": [
    "# основные расчеты \n",
    "df_1 = pd.DataFrame()\n",
    "for id in task_1.id.unique():\n",
    "    items = task_1[task_1.id == id]['item'].str.cat(sep=',').split(',')\n",
    "    items_pair  = list(itertools.combinations(items,2))\n",
    "    df = pd.DataFrame(items_pair)\n",
    "    df.insert(loc = df.shape[1], column='2', value=id)\n",
    "    df_1 = df_1.append(df, ignore_index=True)\n",
    "print(df_1)"
   ]
  },
  {
   "cell_type": "code",
   "execution_count": 8,
   "metadata": {},
   "outputs": [
    {
     "data": {
      "text/html": [
       "<div>\n",
       "<style scoped>\n",
       "    .dataframe tbody tr th:only-of-type {\n",
       "        vertical-align: middle;\n",
       "    }\n",
       "\n",
       "    .dataframe tbody tr th {\n",
       "        vertical-align: top;\n",
       "    }\n",
       "\n",
       "    .dataframe thead th {\n",
       "        text-align: right;\n",
       "    }\n",
       "</style>\n",
       "<table border=\"1\" class=\"dataframe\">\n",
       "  <thead>\n",
       "    <tr style=\"text-align: right;\">\n",
       "      <th></th>\n",
       "      <th>1_Товар</th>\n",
       "      <th>2_Товар</th>\n",
       "      <th>Встречаемость</th>\n",
       "    </tr>\n",
       "  </thead>\n",
       "  <tbody>\n",
       "    <tr>\n",
       "      <th>16429</th>\n",
       "      <td>Огурцы Луховицкие</td>\n",
       "      <td>Укроп</td>\n",
       "      <td>431</td>\n",
       "    </tr>\n",
       "    <tr>\n",
       "      <th>17542</th>\n",
       "      <td>Петрушка</td>\n",
       "      <td>Укроп</td>\n",
       "      <td>408</td>\n",
       "    </tr>\n",
       "    <tr>\n",
       "      <th>1785</th>\n",
       "      <td>Арбуз</td>\n",
       "      <td>Огурцы Луховицкие</td>\n",
       "      <td>345</td>\n",
       "    </tr>\n",
       "    <tr>\n",
       "      <th>9679</th>\n",
       "      <td>Кабачки</td>\n",
       "      <td>Огурцы Луховицкие</td>\n",
       "      <td>326</td>\n",
       "    </tr>\n",
       "    <tr>\n",
       "      <th>11392</th>\n",
       "      <td>Кинза</td>\n",
       "      <td>Укроп</td>\n",
       "      <td>303</td>\n",
       "    </tr>\n",
       "  </tbody>\n",
       "</table>\n",
       "</div>"
      ],
      "text/plain": [
       "                 1_Товар            2_Товар  Встречаемость\n",
       "16429  Огурцы Луховицкие              Укроп            431\n",
       "17542           Петрушка              Укроп            408\n",
       "1785               Арбуз  Огурцы Луховицкие            345\n",
       "9679             Кабачки  Огурцы Луховицкие            326\n",
       "11392              Кинза              Укроп            303"
      ]
     },
     "execution_count": 8,
     "metadata": {},
     "output_type": "execute_result"
    }
   ],
   "source": [
    "#переименовываю колонки в получившейся таблицу и вывожу топ 5 по совместной встречаемости\n",
    "df_1 = df_1.rename(columns= {0:'1_Товар', 1:'2_Товар', '2':'Встречаемость'})\n",
    "\n",
    "df_1.groupby(['1_Товар', '2_Товар'], as_index=False) \\\n",
    "    .agg({'Встречаемость':'count'}) \\\n",
    "    .sort_values('Встречаемость', ascending=False).head()"
   ]
  },
  {
   "cell_type": "markdown",
   "metadata": {},
   "source": [
    "## Задание 2\n",
    "\n",
    "К вам поступила информация о числе заказов за прошедшие 3 месяца с разрешением по неделям. Постройте (если это возможно) прогноз продаж на следующие 3 месяца, с учётом того, что в неделю с 2020-02-02 по 2020-02-09 была проведена массивная акция, повысившая число заказов на 7%\n",
    "\n",
    "Примечание: я хотел воспользоваться __sklearn__ и его функциями _LinearRegression_ и _train_test_split_ для расчета линейной регресии и затем использовать __datetime__ для создание требуемого для анализа времянного ряда, но у меня не получилось разобраться с типами данных, которые необходимо подвать в функцию _model.predict()_ , поэтому я попробовал использовать для предсказания __prophet__ , который мы проходили в модуле по sql"
   ]
  },
  {
   "cell_type": "code",
   "execution_count": 5,
   "metadata": {},
   "outputs": [],
   "source": [
    "# Загружаю данные\n",
    "task_2 = pd.read_csv('https://stepik.org/media/attachments/lesson/426638/test2_completed.csv')"
   ]
  },
  {
   "cell_type": "code",
   "execution_count": 6,
   "metadata": {},
   "outputs": [
    {
     "data": {
      "text/plain": [
       "Дата             object\n",
       "Число заказов     int64\n",
       "dtype: object"
      ]
     },
     "execution_count": 6,
     "metadata": {},
     "output_type": "execute_result"
    }
   ],
   "source": [
    "# Смотрю тип переменых и названия колонок\n",
    "task_2.dtypes"
   ]
  },
  {
   "cell_type": "code",
   "execution_count": 7,
   "metadata": {},
   "outputs": [],
   "source": [
    "# меняю название колонок на удобное для работы и перевожу даты во временной формат\n",
    "task_2 = task_2.rename(columns={'Дата' : 'Date', 'Число заказов': 'orders'})\n",
    "\n",
    "task_2['Date'] = pd.to_datetime(task_2.Date)"
   ]
  },
  {
   "cell_type": "code",
   "execution_count": 8,
   "metadata": {},
   "outputs": [],
   "source": [
    "# выставляю параметры графика\n",
    "sns.set(\n",
    "    font_scale = 1,\n",
    "    style       = 'whitegrid',\n",
    "    rc          ={'figure.figsize': (15,4)})"
   ]
  },
  {
   "cell_type": "code",
   "execution_count": 9,
   "metadata": {
    "scrolled": true
   },
   "outputs": [
    {
     "data": {
      "text/plain": [
       "<matplotlib.axes._subplots.AxesSubplot at 0x7f21874d27f0>"
      ]
     },
     "execution_count": 9,
     "metadata": {},
     "output_type": "execute_result"
    },
    {
     "data": {
      "image/png": "[encoded data removed]",
      "text/plain": [
       "<Figure size 1080x288 with 1 Axes>"
      ]
     },
     "metadata": {},
     "output_type": "display_data"
    }
   ],
   "source": [
    "# оцениваю визуально данные.\n",
    "sns.lineplot(data=task_2, x ='Date', y='orders')"
   ]
  },
  {
   "cell_type": "markdown",
   "metadata": {},
   "source": [
    "Я предпологаю, что модель будет учитывать 7% увеличение роста продаж, поэтому просто строю модель на тех данных что есть, не добавляя дополнительных аргументов."
   ]
  },
  {
   "cell_type": "code",
   "execution_count": 10,
   "metadata": {},
   "outputs": [],
   "source": [
    "# переименовываю колонки для prohet\n",
    "task_2 = task_2.rename(columns={'Date' : 'ds', 'orders': 'y'})\n",
    "\n",
    "# Период, который надо отрезать и предсказать (проверка модели)\n",
    "predictions = 7\n",
    "\n",
    "# Отрезаем из обучающей выборки последние N точек, чтобы измерить на них качество\n",
    "train_df = task_2[:-predictions]"
   ]
  },
  {
   "cell_type": "code",
   "execution_count": 11,
   "metadata": {
    "scrolled": true
   },
   "outputs": [
    {
     "name": "stderr",
     "output_type": "stream",
     "text": [
      "INFO:fbprophet:Disabling daily seasonality. Run prophet with daily_seasonality=True to override this.\n",
      "INFO:fbprophet:n_changepoints greater than number of observations. Using 4.\n"
     ]
    },
    {
     "data": {
      "text/plain": [
       "<fbprophet.forecaster.Prophet at 0x7f21846ea208>"
      ]
     },
     "execution_count": 11,
     "metadata": {},
     "output_type": "execute_result"
    }
   ],
   "source": [
    "# Настраиваем prophet\n",
    "m = Prophet( weekly_seasonality=False, yearly_seasonality=False)\n",
    "m.fit(train_df)"
   ]
  },
  {
   "cell_type": "code",
   "execution_count": 12,
   "metadata": {},
   "outputs": [],
   "source": [
    "# беру период 49 так как я отрезал 7 недель\n",
    "future = m.make_future_dataframe(periods=49)\n",
    "forecast = m.predict(future)"
   ]
  },
  {
   "cell_type": "code",
   "execution_count": 13,
   "metadata": {
    "scrolled": true
   },
   "outputs": [
    {
     "data": {
      "image/png": "[encoded data removed]",
      "text/plain": [
       "<Figure size 720x432 with 1 Axes>"
      ]
     },
     "metadata": {},
     "output_type": "display_data"
    }
   ],
   "source": [
    "# Смотрим, что предсказалось\n",
    "m.plot(forecast);"
   ]
  },
  {
   "cell_type": "code",
   "execution_count": 15,
   "metadata": {
    "scrolled": true
   },
   "outputs": [
    {
     "data": {
      "text/html": [
       "<div>\n",
       "<style scoped>\n",
       "    .dataframe tbody tr th:only-of-type {\n",
       "        vertical-align: middle;\n",
       "    }\n",
       "\n",
       "    .dataframe tbody tr th {\n",
       "        vertical-align: top;\n",
       "    }\n",
       "\n",
       "    .dataframe thead th {\n",
       "        text-align: right;\n",
       "    }\n",
       "</style>\n",
       "<table border=\"1\" class=\"dataframe\">\n",
       "  <thead>\n",
       "    <tr style=\"text-align: right;\">\n",
       "      <th></th>\n",
       "      <th>ds</th>\n",
       "      <th>y</th>\n",
       "    </tr>\n",
       "  </thead>\n",
       "  <tbody>\n",
       "    <tr>\n",
       "      <th>0</th>\n",
       "      <td>2020-01-05</td>\n",
       "      <td>650</td>\n",
       "    </tr>\n",
       "    <tr>\n",
       "      <th>1</th>\n",
       "      <td>2020-01-12</td>\n",
       "      <td>837</td>\n",
       "    </tr>\n",
       "    <tr>\n",
       "      <th>2</th>\n",
       "      <td>2020-01-19</td>\n",
       "      <td>1020</td>\n",
       "    </tr>\n",
       "    <tr>\n",
       "      <th>3</th>\n",
       "      <td>2020-01-26</td>\n",
       "      <td>1176</td>\n",
       "    </tr>\n",
       "    <tr>\n",
       "      <th>4</th>\n",
       "      <td>2020-02-02</td>\n",
       "      <td>1489</td>\n",
       "    </tr>\n",
       "    <tr>\n",
       "      <th>5</th>\n",
       "      <td>2020-02-09</td>\n",
       "      <td>1823</td>\n",
       "    </tr>\n",
       "    <tr>\n",
       "      <th>6</th>\n",
       "      <td>2020-02-16</td>\n",
       "      <td>1991</td>\n",
       "    </tr>\n",
       "    <tr>\n",
       "      <th>7</th>\n",
       "      <td>2020-02-23</td>\n",
       "      <td>2166</td>\n",
       "    </tr>\n",
       "    <tr>\n",
       "      <th>8</th>\n",
       "      <td>2020-03-01</td>\n",
       "      <td>2334</td>\n",
       "    </tr>\n",
       "    <tr>\n",
       "      <th>9</th>\n",
       "      <td>2020-03-08</td>\n",
       "      <td>2607</td>\n",
       "    </tr>\n",
       "    <tr>\n",
       "      <th>10</th>\n",
       "      <td>2020-03-15</td>\n",
       "      <td>2734</td>\n",
       "    </tr>\n",
       "    <tr>\n",
       "      <th>11</th>\n",
       "      <td>2020-03-22</td>\n",
       "      <td>3492</td>\n",
       "    </tr>\n",
       "    <tr>\n",
       "      <th>12</th>\n",
       "      <td>2020-03-29</td>\n",
       "      <td>3608</td>\n",
       "    </tr>\n",
       "    <tr>\n",
       "      <th>13</th>\n",
       "      <td>2020-04-05</td>\n",
       "      <td>3857</td>\n",
       "    </tr>\n",
       "  </tbody>\n",
       "</table>\n",
       "</div>"
      ],
      "text/plain": [
       "           ds     y\n",
       "0  2020-01-05   650\n",
       "1  2020-01-12   837\n",
       "2  2020-01-19  1020\n",
       "3  2020-01-26  1176\n",
       "4  2020-02-02  1489\n",
       "5  2020-02-09  1823\n",
       "6  2020-02-16  1991\n",
       "7  2020-02-23  2166\n",
       "8  2020-03-01  2334\n",
       "9  2020-03-08  2607\n",
       "10 2020-03-15  2734\n",
       "11 2020-03-22  3492\n",
       "12 2020-03-29  3608\n",
       "13 2020-04-05  3857"
      ]
     },
     "execution_count": 15,
     "metadata": {},
     "output_type": "execute_result"
    }
   ],
   "source": [
    "#сравниваю модель с реальными данными. Видно, что модель предсказывает схожие значения\n",
    "task_2"
   ]
  },
  {
   "cell_type": "code",
   "execution_count": 16,
   "metadata": {},
   "outputs": [
    {
     "name": "stderr",
     "output_type": "stream",
     "text": [
      "INFO:fbprophet:Disabling daily seasonality. Run prophet with daily_seasonality=True to override this.\n",
      "INFO:fbprophet:n_changepoints greater than number of observations. Using 10.\n"
     ]
    }
   ],
   "source": [
    "# использую модель для предсказания следующих 3х месяцев\n",
    "prediction_days = 90\n",
    "final_train_df = task_2\n",
    "f = Prophet(weekly_seasonality=False, yearly_seasonality=False)\n",
    "f.fit(final_train_df)\n",
    "final_future = f.make_future_dataframe(periods=prediction_days)\n",
    "final_forecast = f.predict(final_future)"
   ]
  },
  {
   "cell_type": "code",
   "execution_count": 17,
   "metadata": {
    "scrolled": true
   },
   "outputs": [
    {
     "data": {
      "image/png": "[encoded data removed]",
      "text/plain": [
       "<Figure size 720x432 with 1 Axes>"
      ]
     },
     "metadata": {},
     "output_type": "display_data"
    }
   ],
   "source": [
    "# Смотрим, что предсказалось на полный период\n",
    "f.plot(final_forecast);"
   ]
  },
  {
   "cell_type": "code",
   "execution_count": null,
   "metadata": {},
   "outputs": [],
   "source": []
  },
  {
   "cell_type": "code",
   "execution_count": null,
   "metadata": {},
   "outputs": [],
   "source": []
  },
  {
   "cell_type": "markdown",
   "metadata": {},
   "source": [
    "##  Задание 3 (PostgreSQL)\n",
    "\n",
    "В базе данных вашей компании присутствуют следующие таблицы\n",
    "\n",
    "__city__\n",
    "- city_id – id города, где проходит акция\n",
    "- client_city_id – id города, где находится покупатель\n",
    "- city – город\n",
    "- client_city – город, где находится покупатель\n",
    "\n",
    "__client__\n",
    "- client_id – id покупателя\n",
    "- client_city_id – id города, где находится покупатель\n",
    "- birth_date – дата рождения покупателя\n",
    "- registration – дата регистрации покупателя\n",
    "- promotion\n",
    "- promotion_id – id акции\n",
    "- category_id – id категории\n",
    "- promotion_name – акция\n",
    "- category_name – категория\n",
    "- partner_id – id партнёра\n",
    "- partner_name – партнёр\n",
    "\n",
    "__purchase__\n",
    "- purchase_id – id покупки\n",
    "- partner_id – id партнёра\n",
    "- client_id – id покупателя\n",
    "- city_id – id города\n",
    "- promotion_id – id акции\n",
    "- category_id – id категории\n",
    "- purchase_date – дата покупки\n",
    "- price – цена за единицу товара\n",
    "- quantity – число проданных единиц\n",
    "- status – статус покупки\n",
    "\n",
    "Вам нужно написать запрос, чтобы получить такую таблицу\n",
    "\n",
    "- purchase_date – дата покупки\n",
    "- purchase_id – id покупки\n",
    "- client_id – id покупателя\n",
    "- client_age – возраст покупателя\n",
    "- client_registration_age – как долго человек пользуется вашими магазинами\n",
    "- client_category – содержит new или old, если это первая или последующая покупка соответственно\n",
    "- promotion_name – акция\n",
    "- category_name – категория\n",
    "- partner_name – партнёр\n",
    "- client_city – город, где находится покупатель\n",
    "- city – город\n",
    "- revenue – сумма выручки\n",
    "- quantity – число проданных единиц\n",
    "\n",
    "При этом в таблице должны присутствовать только значения, где в поле status стоит значение 1, и только те, где purchase_date находится в диапазоне от 01.05.2020 до 01.08.2020"
   ]
  },
  {
   "cell_type": "markdown",
   "metadata": {},
   "source": [
    "`SELECT \n",
    "    a.purchase_date AS purchase_date,\n",
    "    a.purchase_id AS purchase_id,\n",
    "    a.client_id AS client_id,\n",
    "    c.client_age AS client_age,\n",
    "    c.client_registration_age AS client_registration_age,\n",
    "    a.client_category AS client_category,\n",
    "    a.promotion_name AS promotion_name,\n",
    "    a.category_name AS category_name,\n",
    "    a.partner_name  AS partner_name,\n",
    "    c.client_city AS client_city,\n",
    "    c.city AS city,\n",
    "    a.revenue AS revenue,\n",
    "    a.quantity AS quantity\n",
    "FROM\n",
    "    (\n",
    "    SELECT *\n",
    "    FROM\n",
    "        (\n",
    "        SELECT *,\n",
    "            multiply(price, quantity) AS revenue\n",
    "        FROM purchase AS l\n",
    "        LEFT JOIN\n",
    "            (\n",
    "            SELECT \n",
    "                client_id,\n",
    "                IF(COUNT(client_id) > 1, 'old', 'new') AS client_category\n",
    "            FROM purchase\n",
    "            GROUP BY client_id\n",
    "            ) AS r \n",
    "            USING(client_id)\n",
    "        ) AS a\n",
    "    LEFT JOIN promotion AS b  \n",
    "        USING(promotion_id)\n",
    "    ) AS a\n",
    "LEFT JOIN \n",
    "    (\n",
    "    SELECT\n",
    "        l.city AS city,\n",
    "        l.client_city AS client_city,\n",
    "        r.client_id AS client_id,\n",
    "        r.client_age AS client_age,\n",
    "        r.client_registration_age AS client_registration_age\n",
    "    FROM city AS l\n",
    "    JOIN \n",
    "        (\n",
    "        SELECT\n",
    "            client_id,\n",
    "            client_city_id,\n",
    "            dateDiff('year', birth_date, now()) AS client_age,\n",
    "            dateDiff('year', registration, now()) AS client_registration_age\n",
    "        FROM client\n",
    "        ) AS r\n",
    "        ON l.client_city_id = r.client_city_id\n",
    "    ) AS c\n",
    "    ON a.client_id = c.client_id\n",
    "WHERE status = 1\n",
    "    AND purchase_date > '2020-05-01'\n",
    "    AND purchase_date < '2020-08-01'\n",
    "ORDER BY purchase_date`"
   ]
  },
  {
   "cell_type": "code",
   "execution_count": null,
   "metadata": {},
   "outputs": [],
   "source": []
  }
 ],
 "metadata": {
  "kernelspec": {
   "display_name": "Python 3",
   "language": "python",
   "name": "python3"
  },
  "language_info": {
   "codemirror_mode": {
    "name": "ipython",
    "version": 3
   },
   "file_extension": ".py",
   "mimetype": "text/x-python",
   "name": "python",
   "nbconvert_exporter": "python",
   "pygments_lexer": "ipython3",
   "version": "3.7.3"
  }
 },
 "nbformat": 4,
 "nbformat_minor": 4
}
